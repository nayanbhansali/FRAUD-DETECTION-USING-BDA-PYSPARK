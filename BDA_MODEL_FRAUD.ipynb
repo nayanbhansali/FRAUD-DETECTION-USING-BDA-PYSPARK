{
  "nbformat": 4,
  "nbformat_minor": 0,
  "metadata": {
    "colab": {
      "provenance": []
    },
    "kernelspec": {
      "name": "python3",
      "display_name": "Python 3"
    },
    "language_info": {
      "name": "python"
    }
  },
  "cells": [
    {
      "cell_type": "code",
      "execution_count": null,
      "metadata": {
        "colab": {
          "base_uri": "https://localhost:8080/"
        },
        "id": "w5O3JGTb3NSg",
        "outputId": "60e603a1-75e4-42e7-b42b-b00e36423586"
      },
      "outputs": [
        {
          "output_type": "stream",
          "name": "stdout",
          "text": [
            "Collecting pyspark\n",
            "  Downloading pyspark-3.5.0.tar.gz (316.9 MB)\n",
            "\u001b[2K     \u001b[90m━━━━━━━━━━━━━━━━━━━━━━━━━━━━━━━━━━━━━━━━\u001b[0m \u001b[32m316.9/316.9 MB\u001b[0m \u001b[31m2.1 MB/s\u001b[0m eta \u001b[36m0:00:00\u001b[0m\n",
            "\u001b[?25h  Preparing metadata (setup.py) ... \u001b[?25l\u001b[?25hdone\n",
            "Requirement already satisfied: py4j==0.10.9.7 in /usr/local/lib/python3.10/dist-packages (from pyspark) (0.10.9.7)\n",
            "Building wheels for collected packages: pyspark\n",
            "  Building wheel for pyspark (setup.py) ... \u001b[?25l\u001b[?25hdone\n",
            "  Created wheel for pyspark: filename=pyspark-3.5.0-py2.py3-none-any.whl size=317425345 sha256=41663e812ca23b52783ab9e2fc3e6b6b7608875768025aba750d54828eea494d\n",
            "  Stored in directory: /root/.cache/pip/wheels/41/4e/10/c2cf2467f71c678cfc8a6b9ac9241e5e44a01940da8fbb17fc\n",
            "Successfully built pyspark\n"
          ]
        }
      ],
      "source": [
        "pip install pyspark"
      ]
    },
    {
      "cell_type": "code",
      "source": [
        "from pyspark.sql import SparkSession\n",
        "from pyspark.sql.functions import col\n",
        "import matplotlib.pyplot as plt\n",
        "import seaborn as sns\n",
        "\n",
        "# Initialize Spark session\n",
        "spark = SparkSession.builder.appName(\"FraudDetection\").getOrCreate()\n",
        "\n",
        "# Load data\n",
        "train_df = spark.read.csv(\"/content/drive/MyDrive/train_dataset_combined.csv\", header=True, inferSchema=True)\n",
        "test_df = spark.read.csv(\"/content/drive/MyDrive/test_dataset_combined.csv\", header=True, inferSchema=True)\n",
        "\n",
        "# Display the first row of the DataFrame\n",
        "train_df.show(1)"
      ],
      "metadata": {
        "colab": {
          "base_uri": "https://localhost:8080/"
        },
        "id": "ZlRsQ_UGTZpk",
        "outputId": "dcc79612-9c3c-4033-d04b-dfc382c1696a"
      },
      "execution_count": null,
      "outputs": [
        {
          "output_type": "stream",
          "name": "stdout",
          "text": [
            "+--------------------+-------------------+--------------+----------+----------+------+------------+----------------+-------+--------+---------+---------+------------+---------+-----------+------------------+--------------+-------------+--------+-------------+----------------+-------------+------------------+------------+------------+-----------------+-------------+----------+-----------+-------------------+----------------------+---------------------+------------------------+-----------------------+-----------------------+--------------------------+-----------------------+----------------------------+----------------------+----------------------+---------------------------+-----------------------+--------------------+---------------------+----------------------+------------------+---------------------+--------------------+----------------------+-------------------------+----------------------+-------------------+---------------------+----------------+----------------------+----------------------+----------------------+---------------------+-------------------+--------------------+----------------+------------------+---------------------+--------------------+-----------------+----------------------+----------------------+---------------------------+---------------------+--------------------------+---------------------+----------------------+-------------------+---------------------+--------------------+-----------------------------+-------------------+------------------------+------------------------+-----------------------+----------------------------+---------------------+----------------------+-----------------------+--------------------+--------------------+----------------------+-----------------------------+-------------------------+------------------------+------------------------+-----------------------+----------------------------+------------------------+---------------------+----------------------+-----------------------+-------------------+----------------------+----------------------------+-----------------------+--------------------------+---------------------------+----------------------+----------------------+-------------------+----------------------+---------------------+----------------------------+------------------------+--------------------------+-----------------------+----------------------+---------------------------+----------------------+--------------------+---------------------+-------------------+----------------------+-------------------+---------------------+----------------------------+------------------------+-----------------------+------------------+-----------------------+--------------------------+-----------------------+----------------------------+----------------------+---------------------------+--------------------+----------------------+---------------------+-----------------------+--------------------------+-------------------------+--------------------+-------------------------+-------------------------+------------------------+-----------------------------+-------------------------+----------------------+-----------------------+------------------------+-------------------+-------------------+--------------------+--------------+---------------+---------+-------------+------------+------------+--------+----------+\n",
            "|          SESSION_ID|     EVENT_DATETIME|TRANSACTION_ID|FRAUD_FLAG|AVAIL_CRDT|AMOUNT|CREDIT_LIMIT|CARD_NOT_PRESENT|FLAG_LX|FLAG_ATM|FLAG_AUTO|FLAG_CASH|FLAG_APPAREL|FLAG_DEAL|FLAG_RECREA|FLAG_ENTERTAINMENT|FLAG_GIFT_CARD|FLAG_FASTFOOD|FLAG_GAS|FLAG_HIGH_AMT|FLAG_HIGH_RECREA|FLAG_INTERNET|FLAG_INTERNATIONAL|FLAG_FASHION|FLAG_LOW_AMT|FLAG_MANUAL_ENTRY|FLAG_ELCTRNCS|FLAG_SWIPE|FLAG_HEALTH|MEAN_AUTO_PAST_7DAY|MEAN_APPAREL_PAST_7DAY|MEAN_RECREA_PAST_7DAY|MEAN_GIFT_CARD_PAST_7DAY|MEAN_FASTFOOD_PAST_7DAY|MEAN_HIGH_AMT_PAST_7DAY|MEAN_HIGH_RECREA_PAST_7DAY|MEAN_INTERNET_PAST_7DAY|MEAN_INTERNATIONAL_PAST_7DAY|MEAN_FASHION_PAST_7DAY|MEAN_LOW_AMT_PAST_7DAY|MEAN_MANUAL_ENTRY_PAST_7DAY|MEAN_ELCTRNCS_PAST_7DAY|MEAN_SWIPE_PAST_7DAY|MEAN_HEALTH_PAST_7DAY|MEAN_WEEKEND_PAST_7DAY|MAX_CASH_PAST_7DAY|MAX_APPAREL_PAST_7DAY|MAX_RECREA_PAST_7DAY|MAX_HIGH_AMT_PAST_7DAY|MAX_HIGH_RECREA_PAST_7DAY|MAX_INTERNET_PAST_7DAY|MAX_SWIPE_PAST_7DAY|MAX_WEEKEND_PAST_7DAY|STD_LX_PAST_7DAY|STD_FASTFOOD_PAST_7DAY|STD_HIGH_AMT_PAST_7DAY|STD_INTERNET_PAST_7DAY|STD_LOW_AMT_PAST_7DAY|STD_SWIPE_PAST_7DAY|STD_HEALTH_PAST_7DAY|SUM_LX_PAST_7DAY|SUM_AUTO_PAST_7DAY|SUM_APPAREL_PAST_7DAY|SUM_RECREA_PAST_7DAY|SUM_GAS_PAST_7DAY|SUM_HIGH_AMT_PAST_7DAY|SUM_INTERNET_PAST_7DAY|SUM_INTERNATIONAL_PAST_7DAY|SUM_LOW_AMT_PAST_7DAY|SUM_MANUAL_ENTRY_PAST_7DAY|SUM_PARTIAL_PAST_7DAY|SUM_ELCTRNCS_PAST_7DAY|SUM_SWIPE_PAST_7DAY|SUM_WEEKEND_PAST_7DAY|COUNT_AUTO_PAST_7DAY|COUNT_ENTERTAINMENT_PAST_7DAY|COUNT_GAS_PAST_7DAY|COUNT_HIGH_AMT_PAST_7DAY|COUNT_INTERNET_PAST_7DAY|COUNT_LOW_AMT_PAST_7DAY|COUNT_MANUAL_ENTRY_PAST_7DAY|COUNT_SWIPE_PAST_7DAY|COUNT_HEALTH_PAST_7DAY|COUNT_WEEKEND_PAST_7DAY|MEAN_AUTO_PAST_30DAY|MEAN_DEAL_PAST_30DAY|MEAN_RECREA_PAST_30DAY|MEAN_ENTERTAINMENT_PAST_30DAY|MEAN_GIFT_CARD_PAST_30DAY|MEAN_HIGH_AMT_PAST_30DAY|MEAN_INTERNET_PAST_30DAY|MEAN_LOW_AMT_PAST_30DAY|MEAN_MANUAL_ENTRY_PAST_30DAY|MEAN_ELCTRNCS_PAST_30DAY|MEAN_SWIPE_PAST_30DAY|MEAN_HEALTH_PAST_30DAY|MEAN_WEEKEND_PAST_30DAY|MAX_AUTO_PAST_30DAY|MAX_APPAREL_PAST_30DAY|MAX_ENTERTAINMENT_PAST_30DAY|MAX_FASTFOOD_PAST_30DAY|MAX_HIGH_RECREA_PAST_30DAY|MAX_MANUAL_ENTRY_PAST_30DAY|MAX_PARTIAL_PAST_30DAY|MAX_WEEKEND_PAST_30DAY|STD_AUTO_PAST_30DAY|STD_APPAREL_PAST_30DAY|STD_RECREA_PAST_30DAY|STD_ENTERTAINMENT_PAST_30DAY|STD_GIFT_CARD_PAST_30DAY|STD_HIGH_RECREA_PAST_30DAY|STD_INTERNET_PAST_30DAY|STD_LOW_AMT_PAST_30DAY|STD_MANUAL_ENTRY_PAST_30DAY|STD_PARTIAL_PAST_30DAY|STD_SWIPE_PAST_30DAY|STD_HEALTH_PAST_30DAY|SUM_AUTO_PAST_30DAY|SUM_APPAREL_PAST_30DAY|SUM_DEAL_PAST_30DAY|SUM_RECREA_PAST_30DAY|SUM_ENTERTAINMENT_PAST_30DAY|SUM_GIFT_CARD_PAST_30DAY|SUM_FASTFOOD_PAST_30DAY|SUM_GAS_PAST_30DAY|SUM_HIGH_AMT_PAST_30DAY|SUM_HIGH_RECREA_PAST_30DAY|SUM_INTERNET_PAST_30DAY|SUM_INTERNATIONAL_PAST_30DAY|SUM_LOW_AMT_PAST_30DAY|SUM_MANUAL_ENTRY_PAST_30DAY|SUM_SWIPE_PAST_30DAY|SUM_WEEKEND_PAST_30DAY|COUNT_AUTO_PAST_30DAY|COUNT_RECREA_PAST_30DAY|COUNT_GIFT_CARD_PAST_30DAY|COUNT_FASTFOOD_PAST_30DAY|COUNT_GAS_PAST_30DAY|COUNT_HIGH_AMT_PAST_30DAY|COUNT_INTERNET_PAST_30DAY|COUNT_LOW_AMT_PAST_30DAY|COUNT_MANUAL_ENTRY_PAST_30DAY|COUNT_ELCTRNCS_PAST_30DAY|COUNT_SWIPE_PAST_30DAY|COUNT_HEALTH_PAST_30DAY|COUNT_WEEKEND_PAST_30DAY|      TIMESTAMP_MIN|      TIMESTAMP_MAX|           PAGE_NAME|BROWSER_FAMILY|BROWSER_VERSION|OS_FAMILY|DEVICE_FAMILY|DEVICE_BRAND|DEVICE_MODEL|    CITY|TIME_SPENT|\n",
            "+--------------------+-------------------+--------------+----------+----------+------+------------+----------------+-------+--------+---------+---------+------------+---------+-----------+------------------+--------------+-------------+--------+-------------+----------------+-------------+------------------+------------+------------+-----------------+-------------+----------+-----------+-------------------+----------------------+---------------------+------------------------+-----------------------+-----------------------+--------------------------+-----------------------+----------------------------+----------------------+----------------------+---------------------------+-----------------------+--------------------+---------------------+----------------------+------------------+---------------------+--------------------+----------------------+-------------------------+----------------------+-------------------+---------------------+----------------+----------------------+----------------------+----------------------+---------------------+-------------------+--------------------+----------------+------------------+---------------------+--------------------+-----------------+----------------------+----------------------+---------------------------+---------------------+--------------------------+---------------------+----------------------+-------------------+---------------------+--------------------+-----------------------------+-------------------+------------------------+------------------------+-----------------------+----------------------------+---------------------+----------------------+-----------------------+--------------------+--------------------+----------------------+-----------------------------+-------------------------+------------------------+------------------------+-----------------------+----------------------------+------------------------+---------------------+----------------------+-----------------------+-------------------+----------------------+----------------------------+-----------------------+--------------------------+---------------------------+----------------------+----------------------+-------------------+----------------------+---------------------+----------------------------+------------------------+--------------------------+-----------------------+----------------------+---------------------------+----------------------+--------------------+---------------------+-------------------+----------------------+-------------------+---------------------+----------------------------+------------------------+-----------------------+------------------+-----------------------+--------------------------+-----------------------+----------------------------+----------------------+---------------------------+--------------------+----------------------+---------------------+-----------------------+--------------------------+-------------------------+--------------------+-------------------------+-------------------------+------------------------+-----------------------------+-------------------------+----------------------+-----------------------+------------------------+-------------------+-------------------+--------------------+--------------+---------------+---------+-------------+------------+------------+--------+----------+\n",
            "|9cc2c261-b73e-4f7...|2022-03-02 15:40:49|     71f8a325e|       1.0|   7420.73|  69.7|     14600.0|               1|      0|       0|        0|        0|           0|        0|          0|                 0|             0|            0|       0|            0|               0|            1|                 0|           0|           0|                0|            0|         0|          0|                0.0|                   0.0|               341.25|                  358.75|                    0.0|                 358.75|                       0.0|                  26.32|                         0.0|                   0.0|                   0.0|                     358.75|                    0.0|                15.6|                  0.0|                   0.0|               0.0|                  0.0|              358.75|                341.25|                      0.0|                 26.32|               15.6|                  0.0|             0.0|                   0.0|                   0.0|                   0.0|                  0.0|                0.0|                 0.0|             0.0|               0.0|                  0.0|              358.75|              0.0|                358.75|                 27.68|                        0.0|                  0.0|                    358.75|                  0.0|                   0.0|               15.6|                  0.0|                   0|                            0|                  0|                       0|                       1|                      0|                           0|                    1|                     0|                      0|                 0.0|                 0.0|                358.75|                          0.0|                   341.25|                  341.25|                   26.32|                    0.0|                      341.25|                     0.0|                 16.4|                   0.0|                    0.0|                0.0|                   0.0|                         0.0|                    0.0|                       0.0|                     358.75|                   0.0|                   0.0|                0.0|                   0.0|                  0.0|                         0.0|                     0.0|                       0.0|                    0.0|                   0.0|                        0.0|                   0.0|                 0.0|                  0.0|                0.0|                   0.0|                0.0|               341.25|                         0.0|                  358.75|                    0.0|               0.0|                 341.25|                       0.0|                  27.68|                         0.0|                   0.0|                     341.25|                15.6|                   0.0|                    0|                      1|                         0|                        0|                   0|                        0|                        0|                       0|                            0|                        0|                     1|                      0|                       0|2022-03-02 15:40:49|2022-03-02 15:47:22|{'checkout', '2-f...| Mobile Safari|           16.0|      iOS|       iPhone|       Apple|      iPhone|montreal|     393.0|\n",
            "+--------------------+-------------------+--------------+----------+----------+------+------------+----------------+-------+--------+---------+---------+------------+---------+-----------+------------------+--------------+-------------+--------+-------------+----------------+-------------+------------------+------------+------------+-----------------+-------------+----------+-----------+-------------------+----------------------+---------------------+------------------------+-----------------------+-----------------------+--------------------------+-----------------------+----------------------------+----------------------+----------------------+---------------------------+-----------------------+--------------------+---------------------+----------------------+------------------+---------------------+--------------------+----------------------+-------------------------+----------------------+-------------------+---------------------+----------------+----------------------+----------------------+----------------------+---------------------+-------------------+--------------------+----------------+------------------+---------------------+--------------------+-----------------+----------------------+----------------------+---------------------------+---------------------+--------------------------+---------------------+----------------------+-------------------+---------------------+--------------------+-----------------------------+-------------------+------------------------+------------------------+-----------------------+----------------------------+---------------------+----------------------+-----------------------+--------------------+--------------------+----------------------+-----------------------------+-------------------------+------------------------+------------------------+-----------------------+----------------------------+------------------------+---------------------+----------------------+-----------------------+-------------------+----------------------+----------------------------+-----------------------+--------------------------+---------------------------+----------------------+----------------------+-------------------+----------------------+---------------------+----------------------------+------------------------+--------------------------+-----------------------+----------------------+---------------------------+----------------------+--------------------+---------------------+-------------------+----------------------+-------------------+---------------------+----------------------------+------------------------+-----------------------+------------------+-----------------------+--------------------------+-----------------------+----------------------------+----------------------+---------------------------+--------------------+----------------------+---------------------+-----------------------+--------------------------+-------------------------+--------------------+-------------------------+-------------------------+------------------------+-----------------------------+-------------------------+----------------------+-----------------------+------------------------+-------------------+-------------------+--------------------+--------------+---------------+---------+-------------+------------+------------+--------+----------+\n",
            "only showing top 1 row\n",
            "\n"
          ]
        }
      ]
    },
    {
      "cell_type": "code",
      "source": [
        "# Percentage of fraud (1.0) and non-fraud(0.0) cases in the dataset\n",
        "fraud_percentage = train_df.groupBy(\"FRAUD_FLAG\").count().withColumn(\"percentage\", (col(\"count\") / train_df.count()) * 100)\n",
        "fraud_percentage.show()\n"
      ],
      "metadata": {
        "colab": {
          "base_uri": "https://localhost:8080/"
        },
        "id": "0a3hKrOGWy0V",
        "outputId": "8fbc66b9-2c25-45db-c164-e633506849ab"
      },
      "execution_count": null,
      "outputs": [
        {
          "output_type": "stream",
          "name": "stdout",
          "text": [
            "+----------+-----+-----------------+\n",
            "|FRAUD_FLAG|count|       percentage|\n",
            "+----------+-----+-----------------+\n",
            "|       0.0|10985|92.28765857346887|\n",
            "|       1.0|  918|7.712341426531126|\n",
            "+----------+-----+-----------------+\n",
            "\n"
          ]
        }
      ]
    },
    {
      "cell_type": "markdown",
      "source": [
        "train_df: This is assumed to be a DataFrame containing a column named \"FRAUD_FLAG\" which presumably indicates whether a case is fraudulent (1.0) or not (0.0).\n",
        "\n",
        ".groupBy(\"FRAUD_FLAG\").count(): This part groups the DataFrame by the \"FRAUD_FLAG\" column and counts the occurrences of each unique value. It gives a result with two columns - \"FRAUD_FLAG\" and \"count\", indicating the count of non-fraud (0.0) and fraud (1.0) cases.\n",
        "\n",
        ".withColumn(\"percentage\", (col(\"count\") / train_df.count()) * 100): This adds a new column named \"percentage\" to the DataFrame. It calculates the percentage of each count by dividing it by the total number of cases in the DataFrame (train_df.count()) and then multiplying by 100.\n",
        "\n",
        "fraud_percentage.show(): Finally, this line displays the resulting DataFrame, showing the count and percentage of fraud (1.0) and non-fraud (0.0) cases."
      ],
      "metadata": {
        "id": "YC4ESogId2Kz"
      }
    },
    {
      "cell_type": "markdown",
      "source": [
        "IN THIS CLEARLY WE CAN SEE THAT PERCENTAHGE THERE IS IMBALANCE IN DATA LET US PLOT GRAPH AND CHECK"
      ],
      "metadata": {
        "id": "T49HjkanW2lw"
      }
    },
    {
      "cell_type": "code",
      "source": [
        "# Count plot of frauds and non-frauds\n",
        "fraud_count_plot = train_df.groupBy(\"FRAUD_FLAG\").count().toPandas()\n",
        "sns.barplot(x=\"FRAUD_FLAG\", y=\"count\", data=fraud_count_plot)\n",
        "plt.title(\"Count of frauds and non-frauds\")\n",
        "plt.show()"
      ],
      "metadata": {
        "colab": {
          "base_uri": "https://localhost:8080/",
          "height": 472
        },
        "id": "-X2cAJCsW9BL",
        "outputId": "2fc127e3-e397-44db-8ef5-8dcae1804193"
      },
      "execution_count": null,
      "outputs": [
        {
          "output_type": "display_data",
          "data": {
            "text/plain": [
              "<Figure size 640x480 with 1 Axes>"
            ],
            "image/png": "[encoded data removed]"
          },
          "metadata": {}
        }
      ]
    },
    {
      "cell_type": "markdown",
      "source": [
        "groupBy(\"FRAUD_FLAG\").count(): Similar to the previous explanation, this part groups the DataFrame by the \"FRAUD_FLAG\" column and counts the occurrences of each unique value, resulting in a DataFrame with columns \"FRAUD_FLAG\" and \"count\".\n",
        "\n",
        ".toPandas(): Converts the result to a Pandas DataFrame. This step is necessary for using Seaborn, as it works well with Pandas DataFrames."
      ],
      "metadata": {
        "id": "y15WyofaeAa7"
      }
    },
    {
      "cell_type": "markdown",
      "source": [
        "The landscape of our dataset reveals a significant class imbalance, a common challenge in fraud detection scenarios. In such cases, the choice of evaluation metrics plays a crucial role in capturing the model's true performance.\n",
        "\n",
        "Given our circumstances, the prime metrics under consideration include precision, recall, F1-score The selection of the ultimate metric hinges on the unique line of business needs. In our case, the F1-score takes center stage. The F1-score harmoniously blends precision and recall, aligning with our goal of comprehensive fraud detection."
      ],
      "metadata": {
        "id": "wCwbef1QXCfc"
      }
    },
    {
      "cell_type": "code",
      "source": [
        "# Drop columns SESSION_ID and TRANSACTION_ID\n",
        "columns_to_drop = [\"SESSION_ID\", \"TRANSACTION_ID\"]\n",
        "train_df = train_df.drop(*columns_to_drop)\n",
        "test_df = test_df.drop(*columns_to_drop)"
      ],
      "metadata": {
        "id": "pSlrNUvKXAFm"
      },
      "execution_count": null,
      "outputs": []
    },
    {
      "cell_type": "code",
      "source": [
        "# Drop column BROWSER_VERSION\n",
        "train_df = train_df.drop(\"BROWSER_VERSION\")\n",
        "test_df = test_df.drop(\"BROWSER_VERSION\")"
      ],
      "metadata": {
        "id": "UbYs_XcZXB1N"
      },
      "execution_count": null,
      "outputs": []
    },
    {
      "cell_type": "code",
      "source": [
        "duplicates_before = train_df.count()\n",
        "\n",
        "# Drop duplicate rows\n",
        "train_df_no_duplicates = train_df.dropDuplicates()\n",
        "\n",
        "# Count the number of duplicate rows after dropping\n",
        "duplicates_after = train_df_no_duplicates.count()\n",
        "\n",
        "# Calculate the number of duplicates\n",
        "duplicates_count = duplicates_before - duplicates_after\n",
        "\n",
        "print(f\"Number of duplicate rows: {duplicates_count}\")"
      ],
      "metadata": {
        "colab": {
          "base_uri": "https://localhost:8080/"
        },
        "id": "H9jne9_-XnGV",
        "outputId": "919c9030-bdf2-44c3-86cd-ceeea762a2bd"
      },
      "execution_count": null,
      "outputs": [
        {
          "output_type": "stream",
          "name": "stdout",
          "text": [
            "Number of duplicate rows: 0\n"
          ]
        }
      ]
    },
    {
      "cell_type": "code",
      "source": [
        "train_df.printSchema()"
      ],
      "metadata": {
        "colab": {
          "base_uri": "https://localhost:8080/"
        },
        "id": "OhXO96FBXz2M",
        "outputId": "c965bbc2-39e9-4152-9df4-050d5c66aaf1"
      },
      "execution_count": null,
      "outputs": [
        {
          "output_type": "stream",
          "name": "stdout",
          "text": [
            "root\n",
            " |-- EVENT_DATETIME: timestamp (nullable = true)\n",
            " |-- FRAUD_FLAG: double (nullable = true)\n",
            " |-- AVAIL_CRDT: double (nullable = true)\n",
            " |-- AMOUNT: double (nullable = true)\n",
            " |-- CREDIT_LIMIT: double (nullable = true)\n",
            " |-- CARD_NOT_PRESENT: integer (nullable = true)\n",
            " |-- FLAG_LX: integer (nullable = true)\n",
            " |-- FLAG_ATM: integer (nullable = true)\n",
            " |-- FLAG_AUTO: integer (nullable = true)\n",
            " |-- FLAG_CASH: integer (nullable = true)\n",
            " |-- FLAG_APPAREL: integer (nullable = true)\n",
            " |-- FLAG_DEAL: integer (nullable = true)\n",
            " |-- FLAG_RECREA: integer (nullable = true)\n",
            " |-- FLAG_ENTERTAINMENT: integer (nullable = true)\n",
            " |-- FLAG_GIFT_CARD: integer (nullable = true)\n",
            " |-- FLAG_FASTFOOD: integer (nullable = true)\n",
            " |-- FLAG_GAS: integer (nullable = true)\n",
            " |-- FLAG_HIGH_AMT: integer (nullable = true)\n",
            " |-- FLAG_HIGH_RECREA: integer (nullable = true)\n",
            " |-- FLAG_INTERNET: integer (nullable = true)\n",
            " |-- FLAG_INTERNATIONAL: integer (nullable = true)\n",
            " |-- FLAG_FASHION: integer (nullable = true)\n",
            " |-- FLAG_LOW_AMT: integer (nullable = true)\n",
            " |-- FLAG_MANUAL_ENTRY: integer (nullable = true)\n",
            " |-- FLAG_ELCTRNCS: integer (nullable = true)\n",
            " |-- FLAG_SWIPE: integer (nullable = true)\n",
            " |-- FLAG_HEALTH: integer (nullable = true)\n",
            " |-- MEAN_AUTO_PAST_7DAY: double (nullable = true)\n",
            " |-- MEAN_APPAREL_PAST_7DAY: double (nullable = true)\n",
            " |-- MEAN_RECREA_PAST_7DAY: double (nullable = true)\n",
            " |-- MEAN_GIFT_CARD_PAST_7DAY: double (nullable = true)\n",
            " |-- MEAN_FASTFOOD_PAST_7DAY: double (nullable = true)\n",
            " |-- MEAN_HIGH_AMT_PAST_7DAY: double (nullable = true)\n",
            " |-- MEAN_HIGH_RECREA_PAST_7DAY: double (nullable = true)\n",
            " |-- MEAN_INTERNET_PAST_7DAY: double (nullable = true)\n",
            " |-- MEAN_INTERNATIONAL_PAST_7DAY: double (nullable = true)\n",
            " |-- MEAN_FASHION_PAST_7DAY: double (nullable = true)\n",
            " |-- MEAN_LOW_AMT_PAST_7DAY: double (nullable = true)\n",
            " |-- MEAN_MANUAL_ENTRY_PAST_7DAY: double (nullable = true)\n",
            " |-- MEAN_ELCTRNCS_PAST_7DAY: double (nullable = true)\n",
            " |-- MEAN_SWIPE_PAST_7DAY: double (nullable = true)\n",
            " |-- MEAN_HEALTH_PAST_7DAY: double (nullable = true)\n",
            " |-- MEAN_WEEKEND_PAST_7DAY: double (nullable = true)\n",
            " |-- MAX_CASH_PAST_7DAY: double (nullable = true)\n",
            " |-- MAX_APPAREL_PAST_7DAY: double (nullable = true)\n",
            " |-- MAX_RECREA_PAST_7DAY: double (nullable = true)\n",
            " |-- MAX_HIGH_AMT_PAST_7DAY: double (nullable = true)\n",
            " |-- MAX_HIGH_RECREA_PAST_7DAY: double (nullable = true)\n",
            " |-- MAX_INTERNET_PAST_7DAY: double (nullable = true)\n",
            " |-- MAX_SWIPE_PAST_7DAY: double (nullable = true)\n",
            " |-- MAX_WEEKEND_PAST_7DAY: double (nullable = true)\n",
            " |-- STD_LX_PAST_7DAY: double (nullable = true)\n",
            " |-- STD_FASTFOOD_PAST_7DAY: double (nullable = true)\n",
            " |-- STD_HIGH_AMT_PAST_7DAY: double (nullable = true)\n",
            " |-- STD_INTERNET_PAST_7DAY: double (nullable = true)\n",
            " |-- STD_LOW_AMT_PAST_7DAY: double (nullable = true)\n",
            " |-- STD_SWIPE_PAST_7DAY: double (nullable = true)\n",
            " |-- STD_HEALTH_PAST_7DAY: double (nullable = true)\n",
            " |-- SUM_LX_PAST_7DAY: double (nullable = true)\n",
            " |-- SUM_AUTO_PAST_7DAY: double (nullable = true)\n",
            " |-- SUM_APPAREL_PAST_7DAY: double (nullable = true)\n",
            " |-- SUM_RECREA_PAST_7DAY: double (nullable = true)\n",
            " |-- SUM_GAS_PAST_7DAY: double (nullable = true)\n",
            " |-- SUM_HIGH_AMT_PAST_7DAY: double (nullable = true)\n",
            " |-- SUM_INTERNET_PAST_7DAY: double (nullable = true)\n",
            " |-- SUM_INTERNATIONAL_PAST_7DAY: double (nullable = true)\n",
            " |-- SUM_LOW_AMT_PAST_7DAY: double (nullable = true)\n",
            " |-- SUM_MANUAL_ENTRY_PAST_7DAY: double (nullable = true)\n",
            " |-- SUM_PARTIAL_PAST_7DAY: double (nullable = true)\n",
            " |-- SUM_ELCTRNCS_PAST_7DAY: double (nullable = true)\n",
            " |-- SUM_SWIPE_PAST_7DAY: double (nullable = true)\n",
            " |-- SUM_WEEKEND_PAST_7DAY: double (nullable = true)\n",
            " |-- COUNT_AUTO_PAST_7DAY: integer (nullable = true)\n",
            " |-- COUNT_ENTERTAINMENT_PAST_7DAY: integer (nullable = true)\n",
            " |-- COUNT_GAS_PAST_7DAY: integer (nullable = true)\n",
            " |-- COUNT_HIGH_AMT_PAST_7DAY: integer (nullable = true)\n",
            " |-- COUNT_INTERNET_PAST_7DAY: integer (nullable = true)\n",
            " |-- COUNT_LOW_AMT_PAST_7DAY: integer (nullable = true)\n",
            " |-- COUNT_MANUAL_ENTRY_PAST_7DAY: integer (nullable = true)\n",
            " |-- COUNT_SWIPE_PAST_7DAY: integer (nullable = true)\n",
            " |-- COUNT_HEALTH_PAST_7DAY: integer (nullable = true)\n",
            " |-- COUNT_WEEKEND_PAST_7DAY: integer (nullable = true)\n",
            " |-- MEAN_AUTO_PAST_30DAY: double (nullable = true)\n",
            " |-- MEAN_DEAL_PAST_30DAY: double (nullable = true)\n",
            " |-- MEAN_RECREA_PAST_30DAY: double (nullable = true)\n",
            " |-- MEAN_ENTERTAINMENT_PAST_30DAY: double (nullable = true)\n",
            " |-- MEAN_GIFT_CARD_PAST_30DAY: double (nullable = true)\n",
            " |-- MEAN_HIGH_AMT_PAST_30DAY: double (nullable = true)\n",
            " |-- MEAN_INTERNET_PAST_30DAY: double (nullable = true)\n",
            " |-- MEAN_LOW_AMT_PAST_30DAY: double (nullable = true)\n",
            " |-- MEAN_MANUAL_ENTRY_PAST_30DAY: double (nullable = true)\n",
            " |-- MEAN_ELCTRNCS_PAST_30DAY: double (nullable = true)\n",
            " |-- MEAN_SWIPE_PAST_30DAY: double (nullable = true)\n",
            " |-- MEAN_HEALTH_PAST_30DAY: double (nullable = true)\n",
            " |-- MEAN_WEEKEND_PAST_30DAY: double (nullable = true)\n",
            " |-- MAX_AUTO_PAST_30DAY: double (nullable = true)\n",
            " |-- MAX_APPAREL_PAST_30DAY: double (nullable = true)\n",
            " |-- MAX_ENTERTAINMENT_PAST_30DAY: double (nullable = true)\n",
            " |-- MAX_FASTFOOD_PAST_30DAY: double (nullable = true)\n",
            " |-- MAX_HIGH_RECREA_PAST_30DAY: double (nullable = true)\n",
            " |-- MAX_MANUAL_ENTRY_PAST_30DAY: double (nullable = true)\n",
            " |-- MAX_PARTIAL_PAST_30DAY: double (nullable = true)\n",
            " |-- MAX_WEEKEND_PAST_30DAY: double (nullable = true)\n",
            " |-- STD_AUTO_PAST_30DAY: double (nullable = true)\n",
            " |-- STD_APPAREL_PAST_30DAY: double (nullable = true)\n",
            " |-- STD_RECREA_PAST_30DAY: double (nullable = true)\n",
            " |-- STD_ENTERTAINMENT_PAST_30DAY: double (nullable = true)\n",
            " |-- STD_GIFT_CARD_PAST_30DAY: double (nullable = true)\n",
            " |-- STD_HIGH_RECREA_PAST_30DAY: double (nullable = true)\n",
            " |-- STD_INTERNET_PAST_30DAY: double (nullable = true)\n",
            " |-- STD_LOW_AMT_PAST_30DAY: double (nullable = true)\n",
            " |-- STD_MANUAL_ENTRY_PAST_30DAY: double (nullable = true)\n",
            " |-- STD_PARTIAL_PAST_30DAY: double (nullable = true)\n",
            " |-- STD_SWIPE_PAST_30DAY: double (nullable = true)\n",
            " |-- STD_HEALTH_PAST_30DAY: double (nullable = true)\n",
            " |-- SUM_AUTO_PAST_30DAY: double (nullable = true)\n",
            " |-- SUM_APPAREL_PAST_30DAY: double (nullable = true)\n",
            " |-- SUM_DEAL_PAST_30DAY: double (nullable = true)\n",
            " |-- SUM_RECREA_PAST_30DAY: double (nullable = true)\n",
            " |-- SUM_ENTERTAINMENT_PAST_30DAY: double (nullable = true)\n",
            " |-- SUM_GIFT_CARD_PAST_30DAY: double (nullable = true)\n",
            " |-- SUM_FASTFOOD_PAST_30DAY: double (nullable = true)\n",
            " |-- SUM_GAS_PAST_30DAY: double (nullable = true)\n",
            " |-- SUM_HIGH_AMT_PAST_30DAY: double (nullable = true)\n",
            " |-- SUM_HIGH_RECREA_PAST_30DAY: double (nullable = true)\n",
            " |-- SUM_INTERNET_PAST_30DAY: double (nullable = true)\n",
            " |-- SUM_INTERNATIONAL_PAST_30DAY: double (nullable = true)\n",
            " |-- SUM_LOW_AMT_PAST_30DAY: double (nullable = true)\n",
            " |-- SUM_MANUAL_ENTRY_PAST_30DAY: double (nullable = true)\n",
            " |-- SUM_SWIPE_PAST_30DAY: double (nullable = true)\n",
            " |-- SUM_WEEKEND_PAST_30DAY: double (nullable = true)\n",
            " |-- COUNT_AUTO_PAST_30DAY: integer (nullable = true)\n",
            " |-- COUNT_RECREA_PAST_30DAY: integer (nullable = true)\n",
            " |-- COUNT_GIFT_CARD_PAST_30DAY: integer (nullable = true)\n",
            " |-- COUNT_FASTFOOD_PAST_30DAY: integer (nullable = true)\n",
            " |-- COUNT_GAS_PAST_30DAY: integer (nullable = true)\n",
            " |-- COUNT_HIGH_AMT_PAST_30DAY: integer (nullable = true)\n",
            " |-- COUNT_INTERNET_PAST_30DAY: integer (nullable = true)\n",
            " |-- COUNT_LOW_AMT_PAST_30DAY: integer (nullable = true)\n",
            " |-- COUNT_MANUAL_ENTRY_PAST_30DAY: integer (nullable = true)\n",
            " |-- COUNT_ELCTRNCS_PAST_30DAY: integer (nullable = true)\n",
            " |-- COUNT_SWIPE_PAST_30DAY: integer (nullable = true)\n",
            " |-- COUNT_HEALTH_PAST_30DAY: integer (nullable = true)\n",
            " |-- COUNT_WEEKEND_PAST_30DAY: integer (nullable = true)\n",
            " |-- TIMESTAMP_MIN: timestamp (nullable = true)\n",
            " |-- TIMESTAMP_MAX: timestamp (nullable = true)\n",
            " |-- PAGE_NAME: string (nullable = true)\n",
            " |-- BROWSER_FAMILY: string (nullable = true)\n",
            " |-- OS_FAMILY: string (nullable = true)\n",
            " |-- DEVICE_FAMILY: string (nullable = true)\n",
            " |-- DEVICE_BRAND: string (nullable = true)\n",
            " |-- DEVICE_MODEL: string (nullable = true)\n",
            " |-- CITY: string (nullable = true)\n",
            " |-- TIME_SPENT: double (nullable = true)\n",
            "\n"
          ]
        }
      ]
    },
    {
      "cell_type": "code",
      "source": [
        "# Flag columns\n",
        "flag_columns = [col for col in train_df.columns if col.lower().startswith(\"flag\")]\n",
        "print(\"number of flags:\", len(flag_columns))\n",
        "print()\n",
        "print(\"name of flags\")\n",
        "print(flag_columns)\n",
        "print()\n",
        "\n",
        "# Categorize columns\n",
        "lx_columns = [col for col in train_df.columns if \"lx\" in col.lower()]\n",
        "atm_columns = [col for col in train_df.columns if \"atm\" in col.lower()]\n",
        "auto_columns = [col for col in train_df.columns if \"auto\" in col.lower()]\n",
        "cash_columns = [col for col in train_df.columns if \"cash\" in col.lower()]\n",
        "apparel_columns = [col for col in train_df.columns if \"apparel\" in col.lower()]\n",
        "deal_columns = [col for col in train_df.columns if \"deal\" in col.lower()]\n",
        "\n",
        "entertainment_columns = [col for col in train_df.columns if \"entertainment\" in col.lower()]\n",
        "gift_card_columns = [col for col in train_df.columns if \"gift_card\" in col.lower()]\n",
        "fastfood_columns = [col for col in train_df.columns if \"fast\" in col.lower()]\n",
        "gas_columns = [col for col in train_df.columns if \"gas\" in col.lower()]\n",
        "high_amt_columns = [col for col in train_df.columns if \"high_amt\" in col.lower()]\n",
        "\n",
        "high_recrea_columns = [col for col in train_df.columns if \"high_recrea\" in col.lower()]\n",
        "temp = [col for col in train_df.columns if \"recrea\" in col.lower()]\n",
        "recrea_columns = [col for col in temp if col not in high_recrea_columns]\n",
        "\n",
        "internet_columns = [col for col in train_df.columns if \"internet\" in col.lower()]\n",
        "international_columns = [col for col in train_df.columns if \"international\" in col.lower()]\n",
        "fashion_columns = [col for col in train_df.columns if \"fashion\" in col.lower()]\n",
        "low_amt_columns = [col for col in train_df.columns if \"low_amt\" in col.lower()]\n",
        "manual_columns = [col for col in train_df.columns if \"manual\" in col.lower()]\n",
        "elctrncs_columns = [col for col in train_df.columns if \"elctrncs\" in col.lower()]\n",
        "swipe_columns = [col for col in train_df.columns if \"swipe\" in col.lower()]\n",
        "health_columns = [col for col in train_df.columns if \"health\" in col.lower()]\n",
        "\n",
        "weekend_columns = [col for col in train_df.columns if \"weekend\" in col.lower()]\n",
        "partial_columns = [col for col in train_df.columns if \"partial\" in col.lower()]\n",
        "\n",
        "print(\"number of columns in train_df:\", len(train_df.columns))\n",
        "print(\"number columns in categories:\", len(lx_columns) + len(atm_columns) + len(auto_columns) + len(cash_columns) + len(apparel_columns) + len(deal_columns)\\\n",
        "      + len(recrea_columns) + len(entertainment_columns) + len(gift_card_columns) + len(fastfood_columns) + len(gas_columns) + len(high_amt_columns)\\\n",
        "      + len(high_recrea_columns) + len(internet_columns) + len(international_columns) + len(fashion_columns) + len(low_amt_columns)\\\n",
        "      + len(manual_columns) + len(elctrncs_columns) + len(swipe_columns) + len(health_columns) + len(weekend_columns) + len(partial_columns))\n",
        "\n",
        "other_cols = [col for col in train_df.columns if col not in lx_columns + atm_columns + auto_columns + cash_columns + apparel_columns\n",
        "              + deal_columns + recrea_columns + entertainment_columns + gift_card_columns + fastfood_columns + gas_columns + high_amt_columns\\\n",
        "             + high_recrea_columns + internet_columns + international_columns + fashion_columns + low_amt_columns + manual_columns + elctrncs_columns\\\n",
        "             + swipe_columns + health_columns + weekend_columns + partial_columns]\n",
        "\n",
        "print(\"length of other_cols:\", len(other_cols))\n",
        "print()\n",
        "print(\"list of columns in other_columns:\")\n",
        "print(other_cols)"
      ],
      "metadata": {
        "colab": {
          "base_uri": "https://localhost:8080/"
        },
        "id": "u_ngbg1LYKx5",
        "outputId": "f96430ee-535b-4b48-bc67-be74375cf266"
      },
      "execution_count": null,
      "outputs": [
        {
          "output_type": "stream",
          "name": "stdout",
          "text": [
            "number of flags: 21\n",
            "\n",
            "name of flags\n",
            "['FLAG_LX', 'FLAG_ATM', 'FLAG_AUTO', 'FLAG_CASH', 'FLAG_APPAREL', 'FLAG_DEAL', 'FLAG_RECREA', 'FLAG_ENTERTAINMENT', 'FLAG_GIFT_CARD', 'FLAG_FASTFOOD', 'FLAG_GAS', 'FLAG_HIGH_AMT', 'FLAG_HIGH_RECREA', 'FLAG_INTERNET', 'FLAG_INTERNATIONAL', 'FLAG_FASHION', 'FLAG_LOW_AMT', 'FLAG_MANUAL_ENTRY', 'FLAG_ELCTRNCS', 'FLAG_SWIPE', 'FLAG_HEALTH']\n",
            "\n",
            "number of columns in train_df: 154\n",
            "number columns in categories: 138\n",
            "length of other_cols: 16\n",
            "\n",
            "list of columns in other_columns:\n",
            "['EVENT_DATETIME', 'FRAUD_FLAG', 'AVAIL_CRDT', 'AMOUNT', 'CREDIT_LIMIT', 'CARD_NOT_PRESENT', 'TIMESTAMP_MIN', 'TIMESTAMP_MAX', 'PAGE_NAME', 'BROWSER_FAMILY', 'OS_FAMILY', 'DEVICE_FAMILY', 'DEVICE_BRAND', 'DEVICE_MODEL', 'CITY', 'TIME_SPENT']\n"
          ]
        }
      ]
    },
    {
      "cell_type": "markdown",
      "source": [
        "Flag Columns:\n",
        "\n",
        "Flags are identified by checking if the column names start with \"flag.\"\n",
        "The code prints the number of flag columns and their names.\n",
        "Categorized Columns:\n",
        "\n",
        "Columns are categorized into different groups based on keywords present in their names.\n",
        "Categories include 'lx', 'atm', 'auto', 'cash', 'apparel', 'deal', 'recrea', 'entertainment', 'gift_card', 'fastfood', 'gas', 'high_amt', 'high_recrea', 'internet', 'international', 'fashion', 'low_amt', 'manual', 'elctrncs', 'swipe', 'health', 'weekend', 'partial'.\n",
        "The code prints the number of columns in each category.\n",
        "Other Columns:\n",
        "\n",
        "Columns that do not fall into any of the specified categories are considered as 'other_cols.'\n",
        "The code prints the length of 'other_cols' and lists the column names in this category."
      ],
      "metadata": {
        "id": "YTkzsaSGeOYa"
      }
    },
    {
      "cell_type": "code",
      "source": [
        "var_list = []\n",
        "num_of_frauds = []\n",
        "percentage_of_fraud = []\n",
        "num_of_non_frauds = []\n",
        "percentage_of_non_fraud = []\n",
        "\n",
        "for col_name in flag_columns:\n",
        "    var_list.append(col_name)\n",
        "\n",
        "    fraud_flag_1 = train_df.filter(col(\"FRAUD_FLAG\") == 1)\n",
        "    fraud_flag_0 = train_df.filter(col(\"FRAUD_FLAG\") == 0)\n",
        "\n",
        "    num_of_frauds.append(fraud_flag_1.agg({col_name: \"sum\"}).first()[0])\n",
        "    percentage_of_fraud.append(round(num_of_frauds[-1] / fraud_flag_1.count() * 100, 2))\n",
        "\n",
        "    num_of_non_frauds.append(fraud_flag_0.agg({col_name: \"sum\"}).first()[0])\n",
        "    percentage_of_non_fraud.append(round(num_of_non_frauds[-1] / fraud_flag_0.count() * 100, 2))\n",
        "\n",
        "fraud_based_on_flag_cols = spark.createDataFrame(\n",
        "    list(zip(var_list, num_of_frauds, percentage_of_fraud, num_of_non_frauds, percentage_of_non_fraud)),\n",
        "    schema=[\"Column\", \"# of frauds\", \"% of fraud\", \"# of non_frauds\", \"% of non_fraud\"]\n",
        ")\n",
        "\n",
        "fraud_based_on_flag_cols.show()"
      ],
      "metadata": {
        "colab": {
          "base_uri": "https://localhost:8080/"
        },
        "id": "ycFJomadYV_G",
        "outputId": "efa3a795-257d-44e1-99c6-97ce74b1c738"
      },
      "execution_count": null,
      "outputs": [
        {
          "output_type": "stream",
          "name": "stdout",
          "text": [
            "+------------------+-----------+----------+---------------+--------------+\n",
            "|            Column|# of frauds|% of fraud|# of non_frauds|% of non_fraud|\n",
            "+------------------+-----------+----------+---------------+--------------+\n",
            "|           FLAG_LX|         39|      4.25|            717|          6.53|\n",
            "|          FLAG_ATM|          0|       0.0|              0|           0.0|\n",
            "|         FLAG_AUTO|          1|      0.11|             62|          0.56|\n",
            "|         FLAG_CASH|          0|       0.0|              0|           0.0|\n",
            "|      FLAG_APPAREL|        287|     31.26|           2838|         25.84|\n",
            "|         FLAG_DEAL|         19|      2.07|             52|          0.47|\n",
            "|       FLAG_RECREA|          0|       0.0|              0|           0.0|\n",
            "|FLAG_ENTERTAINMENT|        115|     12.53|           1066|           9.7|\n",
            "|    FLAG_GIFT_CARD|        270|     29.41|            464|          4.22|\n",
            "|     FLAG_FASTFOOD|          0|       0.0|              0|           0.0|\n",
            "|          FLAG_GAS|          0|       0.0|              0|           0.0|\n",
            "|     FLAG_HIGH_AMT|        212|     23.09|           1936|         17.62|\n",
            "|  FLAG_HIGH_RECREA|          0|       0.0|              0|           0.0|\n",
            "|     FLAG_INTERNET|        918|     100.0|          10985|         100.0|\n",
            "|FLAG_INTERNATIONAL|        344|     37.47|            415|          3.78|\n",
            "|      FLAG_FASHION|          3|      0.33|             23|          0.21|\n",
            "|      FLAG_LOW_AMT|        145|      15.8|           3098|          28.2|\n",
            "| FLAG_MANUAL_ENTRY|          0|       0.0|              0|           0.0|\n",
            "|     FLAG_ELCTRNCS|         94|     10.24|           1065|           9.7|\n",
            "|        FLAG_SWIPE|          0|       0.0|              0|           0.0|\n",
            "+------------------+-----------+----------+---------------+--------------+\n",
            "only showing top 20 rows\n",
            "\n"
          ]
        }
      ]
    },
    {
      "cell_type": "markdown",
      "source": [
        "Initialization:\n",
        "\n",
        "Initialize lists (var_list, num_of_frauds, percentage_of_fraud, num_of_non_frauds, percentage_of_non_fraud) to store information about each flag column.\n",
        "Loop Through Flag Columns:\n",
        "\n",
        "Iterate over each column name in the flag_columns list.\n",
        "Fraud and Non-Fraud Count:\n",
        "\n",
        "For each flag column, filter the train_df DataFrame into two subsets: one for fraud cases (fraud_flag_1) and one for non-fraud cases (fraud_flag_0).\n",
        "Calculate the number of frauds and non-frauds for each flag column.\n",
        "Calculate Percentages:\n",
        "\n",
        "Calculate the percentage of frauds and non-frauds for each flag column based on the counts obtained in the previous step.\n",
        "Create Result DataFrame:\n",
        "\n",
        "Use the collected information to create a new DataFrame (fraud_based_on_flag_cols) with columns: \"Column,\" \"# of frauds,\" \"% of fraud,\" \"# of non_frauds,\" \"% of non_fraud.\"\n",
        "Display Result:\n",
        "\n",
        "Show the resulting DataFrame, which provides a summary of fraud and non-fraud counts and percentages for each flag column."
      ],
      "metadata": {
        "id": "wpnXoH-KeUun"
      }
    },
    {
      "cell_type": "markdown",
      "source": [
        "Here's the scoop: some columns like \"FLAG_ATM,\" \"FLAG_AUTO,\" and the gang, don't seem to hang out much with frauds. They're kind of like different cliques in the data world.\n",
        "\n",
        "Then there's the enigmatic \"FLAG_INTERNET\" - it's like a magnet for frauds, with a full 100% of its encounters being fishy."
      ],
      "metadata": {
        "id": "TQsS7ro8Yeej"
      }
    },
    {
      "cell_type": "code",
      "source": [
        "selected_columns = ['AVAIL_CRDT', 'AMOUNT', 'CREDIT_LIMIT']\n",
        "\n",
        "# Calculate the correlation matrix\n",
        "correlation_matrix = train_df.select([col(c).cast(\"double\") for c in selected_columns]).toPandas().corr()\n",
        "\n",
        "# Show the correlation matrix\n",
        "print(correlation_matrix)"
      ],
      "metadata": {
        "colab": {
          "base_uri": "https://localhost:8080/"
        },
        "id": "0RzZLvJmYfJE",
        "outputId": "1abb7745-050f-4a61-c5fd-4758eda55f08"
      },
      "execution_count": null,
      "outputs": [
        {
          "output_type": "stream",
          "name": "stdout",
          "text": [
            "              AVAIL_CRDT    AMOUNT  CREDIT_LIMIT\n",
            "AVAIL_CRDT      1.000000  0.055768      0.840051\n",
            "AMOUNT          0.055768  1.000000      0.075691\n",
            "CREDIT_LIMIT    0.840051  0.075691      1.000000\n"
          ]
        }
      ]
    },
    {
      "cell_type": "markdown",
      "source": [
        "It's decision time, and we're navigating the landscape of credit-related columns. Here's the scoop: there is a strong association between credit limit and accessible credit."
      ],
      "metadata": {
        "id": "XbOoslQsZNmQ"
      }
    },
    {
      "cell_type": "markdown",
      "source": [
        "1. WITHOUT OVERSAMPLING"
      ],
      "metadata": {
        "id": "LUcxN-8xTaCS"
      }
    },
    {
      "cell_type": "code",
      "source": [
        "from pyspark.sql import SparkSession\n",
        "from pyspark.ml.feature import VectorAssembler\n",
        "from pyspark.ml.classification import DecisionTreeClassifier\n",
        "from pyspark.ml.evaluation import BinaryClassificationEvaluator, MulticlassClassificationEvaluator\n",
        "from pyspark.ml import Pipeline\n",
        "import seaborn as sns\n",
        "import matplotlib.pyplot as plt\n",
        "\n",
        "# Initialize Spark session\n",
        "spark = SparkSession.builder.appName(\"FraudDetection\").getOrCreate()\n",
        "\n",
        "# Load data\n",
        "train_df = spark.read.csv(\"/content/drive/MyDrive/train_after_EDA.csv\", header=True, inferSchema=True)\n",
        "test_df = spark.read.csv(\"/content/drive/MyDrive/test_after_EDA.csv\", header=True, inferSchema=True)\n",
        "\n"
      ],
      "metadata": {
        "id": "H_F08MbSDwoY"
      },
      "execution_count": null,
      "outputs": []
    },
    {
      "cell_type": "code",
      "source": [
        "# Define features and label\n",
        "feature_cols = [col for col in train_df.columns if col != \"FRAUD_FLAG\"]\n",
        "assembler = VectorAssembler(inputCols=feature_cols, outputCol=\"features\")\n",
        "train_df = assembler.transform(train_df)\n",
        "test_df = assembler.transform(test_df)\n",
        "\n",
        "# Split data\n",
        "train_data, test_data = train_df.randomSplit([0.7, 0.3], seed=42)\n",
        "\n",
        "# Define the Decision Tree Classifier\n",
        "dt = DecisionTreeClassifier(featuresCol=\"features\", labelCol=\"FRAUD_FLAG\")  # Specify the label column\n",
        "\n",
        "\n"
      ],
      "metadata": {
        "id": "8PgcpYUsdAbo"
      },
      "execution_count": null,
      "outputs": []
    },
    {
      "cell_type": "markdown",
      "source": [
        "Define Features and Label:\n",
        "\n",
        "feature_cols: Extracts all columns from the train_df DataFrame except for the \"FRAUD_FLAG\" column, considering them as features.\n",
        "assembler: Uses the VectorAssembler to transform the DataFrame by combining the selected feature columns into a single vector column named \"features.\"\n",
        "train_df and test_df are updated to include the new \"features\" column.\n",
        "Split Data:\n",
        "\n",
        "Splits the data into training and testing sets using the randomSplit method. 70% of the data is used for training (train_data), and 30% is used for testing (test_data). A seed value of 42 is set for reproducibility.\n",
        "Define Decision Tree Classifier:\n",
        "\n",
        "dt: Creates an instance of the Decision Tree Classifier from the pyspark.ml.classification module.\n",
        "The classifier is configured with the \"featuresCol\" parameter set to \"features\" (the assembled feature vector) and the \"labelCol\" parameter set to \"FRAUD_FLAG\" (the target variable)."
      ],
      "metadata": {
        "id": "mfyPC0Xzee_e"
      }
    },
    {
      "cell_type": "code",
      "source": [
        "# Create a pipeline\n",
        "pipeline = Pipeline(stages=[dt])\n",
        "\n",
        "# Fit the model\n",
        "model = pipeline.fit(train_data)\n",
        "\n",
        "# Make predictions on the test set\n",
        "predictions = model.transform(test_data)\n",
        "\n"
      ],
      "metadata": {
        "id": "MyjwD5YmdC3O"
      },
      "execution_count": null,
      "outputs": []
    },
    {
      "cell_type": "markdown",
      "source": [
        "Create a Pipeline:\n",
        "\n",
        "pipeline: Initializes a machine learning pipeline using Pipeline from pyspark.ml. The pipeline is configured with a single stage, which is the Decision Tree Classifier (dt) defined earlier.\n",
        "Fit the Model:\n",
        "\n",
        "model: Fits the machine learning model on the training data using the fit method of the pipeline. This involves training the Decision Tree Classifier on the features and labels from the training set.\n",
        "Make Predictions:\n",
        "\n",
        "predictions: Applies the trained model to the test data using the transform method of the pipeline. This step generates predictions for the test set based on the features."
      ],
      "metadata": {
        "id": "1F7WDcLceqK1"
      }
    },
    {
      "cell_type": "code",
      "source": [
        "# Display confusion matrix\n",
        "conf_matrix = predictions.groupBy(\"FRAUD_FLAG\", \"prediction\").count().toPandas()\n",
        "sns.heatmap(conf_matrix.pivot(\"FRAUD_FLAG\", \"prediction\", \"count\"), annot=True, fmt=\"d\", cmap=\"Blues\")\n",
        "plt.title(\"Confusion Matrix\")\n",
        "plt.show()\n",
        "\n",
        "# Evaluate the model\n",
        "evaluator = MulticlassClassificationEvaluator(labelCol=\"FRAUD_FLAG\", predictionCol=\"prediction\", metricName=\"accuracy\")\n",
        "accuracy = evaluator.evaluate(predictions)\n",
        "print(\"Accuracy: {:.2%}\".format(accuracy))\n",
        "\n",
        "\n",
        "# Close the Spark session\n",
        "spark.stop()"
      ],
      "metadata": {
        "colab": {
          "base_uri": "https://localhost:8080/",
          "height": 526
        },
        "id": "UCMfuvmZdFpL",
        "outputId": "d1e496aa-cb55-4828-d853-70382165dbe8"
      },
      "execution_count": null,
      "outputs": [
        {
          "output_type": "stream",
          "name": "stderr",
          "text": [
            "<ipython-input-91-4719508693b0>:3: FutureWarning: In a future version of pandas all arguments of DataFrame.pivot will be keyword-only.\n",
            "  sns.heatmap(conf_matrix.pivot(\"FRAUD_FLAG\", \"prediction\", \"count\"), annot=True, fmt=\"d\", cmap=\"Blues\")\n"
          ]
        },
        {
          "output_type": "display_data",
          "data": {
            "text/plain": [
              "<Figure size 640x480 with 2 Axes>"
            ],
            "image/png": "[encoded data removed]"
          },
          "metadata": {}
        },
        {
          "output_type": "stream",
          "name": "stdout",
          "text": [
            "Accuracy: 93.85%\n"
          ]
        }
      ]
    },
    {
      "cell_type": "markdown",
      "source": [
        "with oversampling"
      ],
      "metadata": {
        "id": "Y88l5730QPD6"
      }
    },
    {
      "cell_type": "code",
      "source": [
        "from pyspark.sql import SparkSession\n",
        "from pyspark.ml.feature import VectorAssembler\n",
        "from pyspark.ml.classification import DecisionTreeClassifier\n",
        "from pyspark.ml.evaluation import MulticlassClassificationEvaluator\n",
        "from pyspark.ml import Pipeline\n",
        "from imblearn.over_sampling import SMOTE\n",
        "from pyspark.ml.linalg import DenseVector\n",
        "from pyspark.sql.functions import col, udf\n",
        "from pyspark.sql.types import StringType\n",
        "\n",
        "# Initialize Spark session\n",
        "spark = SparkSession.builder.appName(\"FraudDetection\").getOrCreate()\n",
        "\n",
        "# Load data\n",
        "train_df = spark.read.csv(\"/content/drive/MyDrive/train_after_EDA.csv\", header=True, inferSchema=True)\n",
        "test_df = spark.read.csv(\"/content/drive/MyDrive/test_after_EDA.csv\", header=True, inferSchema=True)\n",
        "\n",
        "# Assuming 'FRAUD_FLAG' is the target variable\n",
        "target_col = 'FRAUD_FLAG'\n",
        "\n",
        "\n"
      ],
      "metadata": {
        "id": "-mNZ8izNQNO2"
      },
      "execution_count": null,
      "outputs": []
    },
    {
      "cell_type": "markdown",
      "source": [
        "This code snippet initializes a Spark session, loads data from CSV files using Spark, and defines some necessary imports and variables for fraud detection using a Decision Tree Classifier and SMOTE (Synthetic Minority Over-sampling Technique) for handling imbalanced data. Here's a short explanation:\n",
        "\n",
        "Imports:\n",
        "\n",
        "Various necessary libraries are imported, including Spark MLlib components (VectorAssembler, DecisionTreeClassifier, MulticlassClassificationEvaluator, Pipeline), imbalanced learning library (SMOTE), and other relevant Spark and Python libraries.\n",
        "Initialize Spark Session:\n",
        "\n",
        "SparkSession.builder.appName(\"FraudDetection\").getOrCreate(): Initiates a Spark session named \"FraudDetection.\"\n",
        "Load Data:\n",
        "\n",
        "Reads CSV files containing the training and test datasets into Spark DataFrames (train_df and test_df).\n",
        "Target Variable:\n",
        "\n",
        "target_col: Specifies the name of the target variable, assumed to be \"FRAUD_FLAG.\""
      ],
      "metadata": {
        "id": "fuqazD7CfVGr"
      }
    },
    {
      "cell_type": "code",
      "source": [
        "# Define features and label\n",
        "feature_cols = [col for col in train_df.columns if col != target_col]\n",
        "assembler = VectorAssembler(inputCols=feature_cols, outputCol=\"features\")\n",
        "train_df = assembler.transform(train_df)\n",
        "test_df = assembler.transform(test_df)\n",
        "\n",
        "# Extract features and labels\n",
        "X_train = train_df.select(\"features\").rdd.map(lambda x: DenseVector(x[0].toArray())).collect()\n",
        "y_train = train_df.select(target_col).rdd.map(lambda x: x[0]).collect()\n",
        "\n"
      ],
      "metadata": {
        "id": "cu4gRsCOdK_H"
      },
      "execution_count": null,
      "outputs": []
    },
    {
      "cell_type": "markdown",
      "source": [
        "his code snippet involves defining features and labels, using a VectorAssembler to create feature vectors, and extracting features and labels from the Spark DataFrame. Here's a brief explanation:\n",
        "\n",
        "Define Features and Label:\n",
        "\n",
        "feature_cols: Identifies the feature columns by excluding the target variable column (target_col).\n",
        "assembler: Utilizes the VectorAssembler to transform the DataFrame by combining the selected feature columns into a single vector column named \"features.\"\n",
        "train_df and test_df are updated to include the new \"features\" column.\n",
        "Extract Features and Labels:\n",
        "\n",
        "X_train: Extracts the feature vectors from the \"features\" column in the train_df DataFrame. The feature vectors are collected into a list of DenseVector objects.\n",
        "y_train: Extracts the target variable values (labels) from the train_df DataFrame. The labels are collected into a list."
      ],
      "metadata": {
        "id": "6ZJkfgYgfa-e"
      }
    },
    {
      "cell_type": "code",
      "source": [
        "# SMOTE-like resampling (simple oversampling)\n",
        "smote = SMOTE(sampling_strategy=1.0, random_state=42)\n",
        "X_train_resampled, y_train_resampled = smote.fit_resample(X_train, y_train)\n",
        "\n",
        "# Create a new Spark DataFrame from the resampled data\n",
        "resampled_data = [(DenseVector(features), label) for features, label in zip(X_train_resampled, y_train_resampled)]\n",
        "resampled_df = spark.createDataFrame(resampled_data, [\"features\", target_col])\n",
        "\n",
        "# Split data\n",
        "train_data, test_data = resampled_df.randomSplit([0.7, 0.3], seed=42)\n",
        "\n",
        "# Define the Decision Tree Classifier\n",
        "dt = DecisionTreeClassifier(featuresCol=\"features\", labelCol=target_col)\n",
        "\n"
      ],
      "metadata": {
        "id": "7t9G6G7mdNLf"
      },
      "execution_count": null,
      "outputs": []
    },
    {
      "cell_type": "markdown",
      "source": [
        "SMOTE Resampling:\n",
        "\n",
        "smote = SMOTE(sampling_strategy=1.0, random_state=42): Initializes the SMOTE object with a sampling strategy of 1.0, indicating that the number of samples in the minority class (fraud) should be equal to the number of samples in the majority class (non-fraud).\n",
        "X_train_resampled, y_train_resampled = smote.fit_resample(X_train, y_train): Applies SMOTE to oversample the minority class in the training data, resulting in resampled feature vectors (X_train_resampled) and labels (y_train_resampled).\n",
        "Create Resampled Spark DataFrame:\n",
        "\n",
        "resampled_data: Creates a list of tuples, where each tuple contains a DenseVector of features and the corresponding label from the resampled data.\n",
        "resampled_df: Uses spark.createDataFrame to create a new Spark DataFrame (resampled_df) from the resampled data, with columns \"features\" and the target variable column (target_col).\n",
        "Split Resampled Data:\n",
        "\n",
        "train_data, test_data = resampled_df.randomSplit([0.7, 0.3], seed=42): Splits the resampled data into training and testing sets using a 70-30 split ratio. A seed of 42 is set for reproducibility.\n",
        "Define Decision Tree Classifier:\n",
        "\n",
        "dt = DecisionTreeClassifier(featuresCol=\"features\", labelCol=target_col): Initializes the Decision Tree Classifier with the feature and label columns specified."
      ],
      "metadata": {
        "id": "wymVzexNfgQk"
      }
    },
    {
      "cell_type": "code",
      "source": [
        "# Create a pipeline\n",
        "pipeline = Pipeline(stages=[dt])\n",
        "\n",
        "# Fit the model\n",
        "model = pipeline.fit(train_data)\n",
        "\n",
        "# Make predictions on the test set\n",
        "predictions = model.transform(test_data)\n",
        "\n"
      ],
      "metadata": {
        "id": "dibGl7lKTSws"
      },
      "execution_count": null,
      "outputs": []
    },
    {
      "cell_type": "code",
      "source": [
        "# Display confusion matrix\n",
        "conf_matrix = predictions.groupBy(target_col, \"prediction\").count().toPandas()\n",
        "sns.heatmap(conf_matrix.pivot(target_col, \"prediction\", \"count\"), annot=True, fmt=\"d\", cmap=\"Blues\")\n",
        "plt.title(\"Confusion Matrix\")\n",
        "plt.show()\n",
        "\n",
        "# Evaluate the model\n",
        "evaluator = MulticlassClassificationEvaluator(labelCol=target_col, predictionCol=\"prediction\", metricName=\"accuracy\")\n",
        "accuracy = evaluator.evaluate(predictions)\n",
        "print(\"Accuracy: {:.2%}\".format(accuracy))\n",
        "\n",
        "# Close the Spark session\n",
        "spark.stop()"
      ],
      "metadata": {
        "colab": {
          "base_uri": "https://localhost:8080/",
          "height": 526
        },
        "id": "_8bpGx1CdTl2",
        "outputId": "b7f4f0ea-ca75-47ac-ed8f-7bdfb6e30f31"
      },
      "execution_count": null,
      "outputs": [
        {
          "output_type": "stream",
          "name": "stderr",
          "text": [
            "<ipython-input-97-6c6c2d09e7f9>:3: FutureWarning: In a future version of pandas all arguments of DataFrame.pivot will be keyword-only.\n",
            "  sns.heatmap(conf_matrix.pivot(target_col, \"prediction\", \"count\"), annot=True, fmt=\"d\", cmap=\"Blues\")\n"
          ]
        },
        {
          "output_type": "display_data",
          "data": {
            "text/plain": [
              "<Figure size 640x480 with 2 Axes>"
            ],
            "image/png": "[encoded data removed]"
          },
          "metadata": {}
        },
        {
          "output_type": "stream",
          "name": "stdout",
          "text": [
            "Accuracy: 91.27%\n"
          ]
        }
      ]
    }
  ]
}